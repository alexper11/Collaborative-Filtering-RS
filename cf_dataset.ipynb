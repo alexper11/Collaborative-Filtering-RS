{
 "cells": [
  {
   "cell_type": "markdown",
   "metadata": {
    "id": "EUezizjhLeeZ"
   },
   "source": [
    "# COLLABORATIVE FILTERING RS\n",
    "\n",
    "Edison Alexander Mosquera -\n",
    "Luis Fernando Valencia"
   ]
  },
  {
   "cell_type": "markdown",
   "metadata": {
    "id": "h6AfJFpALrXh"
   },
   "source": [
    "## Implementing a recommender system based on collaborative filtering\n",
    "\n",
    "Download  the anime dataset available [here](https://drive.google.com/drive/folders/1F8e7Dwt-On2apF6pQsEAKARqVqSA1d8a?usp=sharing)\n"
   ]
  },
  {
   "cell_type": "markdown",
   "metadata": {
    "id": "s8TCv2n2Me2e"
   },
   "source": [
    "Import the necessary libraries"
   ]
  },
  {
   "cell_type": "code",
   "execution_count": 19,
   "metadata": {
    "executionInfo": {
     "elapsed": 614,
     "status": "ok",
     "timestamp": 1604516852371,
     "user": {
      "displayName": "Edison Alexander Mosquera Perdomo",
      "photoUrl": "https://lh3.googleusercontent.com/a-/AOh14Gjoug7a6vh3drfidVRKo1clOLAj3g5wk5n4IATcPw=s64",
      "userId": "09487360127696676675"
     },
     "user_tz": 300
    },
    "id": "Sfl9ZH2iMsHH"
   },
   "outputs": [],
   "source": [
    "import pandas as pd\n",
    "import numpy as np\n",
    "from math import sqrt\n"
   ]
  },
  {
   "cell_type": "markdown",
   "metadata": {
    "id": "v82pvUg6NGqx"
   },
   "source": [
    "Load datasets anime and rating. The rating is -1 if the user watched the item but didn't rated it"
   ]
  },
  {
   "cell_type": "code",
   "execution_count": 20,
   "metadata": {
    "colab": {
     "base_uri": "https://localhost:8080/",
     "height": 204
    },
    "executionInfo": {
     "elapsed": 2732,
     "status": "ok",
     "timestamp": 1604516854503,
     "user": {
      "displayName": "Edison Alexander Mosquera Perdomo",
      "photoUrl": "https://lh3.googleusercontent.com/a-/AOh14Gjoug7a6vh3drfidVRKo1clOLAj3g5wk5n4IATcPw=s64",
      "userId": "09487360127696676675"
     },
     "user_tz": 300
    },
    "id": "TzhYvuThNMOQ",
    "outputId": "e39d9fb0-2c65-40af-ca26-da59284ec43f"
   },
   "outputs": [
    {
     "data": {
      "text/html": [
       "<div>\n",
       "<style scoped>\n",
       "    .dataframe tbody tr th:only-of-type {\n",
       "        vertical-align: middle;\n",
       "    }\n",
       "\n",
       "    .dataframe tbody tr th {\n",
       "        vertical-align: top;\n",
       "    }\n",
       "\n",
       "    .dataframe thead th {\n",
       "        text-align: right;\n",
       "    }\n",
       "</style>\n",
       "<table border=\"1\" class=\"dataframe\">\n",
       "  <thead>\n",
       "    <tr style=\"text-align: right;\">\n",
       "      <th></th>\n",
       "      <th>user_id</th>\n",
       "      <th>anime_id</th>\n",
       "      <th>rating</th>\n",
       "    </tr>\n",
       "  </thead>\n",
       "  <tbody>\n",
       "    <tr>\n",
       "      <th>0</th>\n",
       "      <td>1</td>\n",
       "      <td>20</td>\n",
       "      <td>-1</td>\n",
       "    </tr>\n",
       "    <tr>\n",
       "      <th>1</th>\n",
       "      <td>1</td>\n",
       "      <td>24</td>\n",
       "      <td>-1</td>\n",
       "    </tr>\n",
       "    <tr>\n",
       "      <th>2</th>\n",
       "      <td>1</td>\n",
       "      <td>79</td>\n",
       "      <td>-1</td>\n",
       "    </tr>\n",
       "    <tr>\n",
       "      <th>3</th>\n",
       "      <td>1</td>\n",
       "      <td>226</td>\n",
       "      <td>-1</td>\n",
       "    </tr>\n",
       "    <tr>\n",
       "      <th>4</th>\n",
       "      <td>1</td>\n",
       "      <td>241</td>\n",
       "      <td>-1</td>\n",
       "    </tr>\n",
       "  </tbody>\n",
       "</table>\n",
       "</div>"
      ],
      "text/plain": [
       "   user_id  anime_id  rating\n",
       "0        1        20      -1\n",
       "1        1        24      -1\n",
       "2        1        79      -1\n",
       "3        1       226      -1\n",
       "4        1       241      -1"
      ]
     },
     "execution_count": 20,
     "metadata": {
      "tags": []
     },
     "output_type": "execute_result"
    }
   ],
   "source": [
    "anime_df = pd.read_csv('anime.csv')\n",
    "ratings_df = pd.read_csv('rating.csv')\n",
    "ratings_df.head()"
   ]
  },
  {
   "cell_type": "code",
   "execution_count": 21,
   "metadata": {
    "colab": {
     "base_uri": "https://localhost:8080/",
     "height": 204
    },
    "executionInfo": {
     "elapsed": 2731,
     "status": "ok",
     "timestamp": 1604516854507,
     "user": {
      "displayName": "Edison Alexander Mosquera Perdomo",
      "photoUrl": "https://lh3.googleusercontent.com/a-/AOh14Gjoug7a6vh3drfidVRKo1clOLAj3g5wk5n4IATcPw=s64",
      "userId": "09487360127696676675"
     },
     "user_tz": 300
    },
    "id": "8beWuYZmqAsr",
    "outputId": "ff839cfb-6579-4e5b-becc-b7b51863d2eb"
   },
   "outputs": [
    {
     "data": {
      "text/html": [
       "<div>\n",
       "<style scoped>\n",
       "    .dataframe tbody tr th:only-of-type {\n",
       "        vertical-align: middle;\n",
       "    }\n",
       "\n",
       "    .dataframe tbody tr th {\n",
       "        vertical-align: top;\n",
       "    }\n",
       "\n",
       "    .dataframe thead th {\n",
       "        text-align: right;\n",
       "    }\n",
       "</style>\n",
       "<table border=\"1\" class=\"dataframe\">\n",
       "  <thead>\n",
       "    <tr style=\"text-align: right;\">\n",
       "      <th></th>\n",
       "      <th>user_id</th>\n",
       "      <th>anime_id</th>\n",
       "      <th>rating</th>\n",
       "    </tr>\n",
       "  </thead>\n",
       "  <tbody>\n",
       "    <tr>\n",
       "      <th>7813732</th>\n",
       "      <td>73515</td>\n",
       "      <td>16512</td>\n",
       "      <td>7</td>\n",
       "    </tr>\n",
       "    <tr>\n",
       "      <th>7813733</th>\n",
       "      <td>73515</td>\n",
       "      <td>17187</td>\n",
       "      <td>9</td>\n",
       "    </tr>\n",
       "    <tr>\n",
       "      <th>7813734</th>\n",
       "      <td>73515</td>\n",
       "      <td>22145</td>\n",
       "      <td>10</td>\n",
       "    </tr>\n",
       "    <tr>\n",
       "      <th>7813735</th>\n",
       "      <td>73516</td>\n",
       "      <td>790</td>\n",
       "      <td>9</td>\n",
       "    </tr>\n",
       "    <tr>\n",
       "      <th>7813736</th>\n",
       "      <td>73516</td>\n",
       "      <td>8074</td>\n",
       "      <td>9</td>\n",
       "    </tr>\n",
       "  </tbody>\n",
       "</table>\n",
       "</div>"
      ],
      "text/plain": [
       "         user_id  anime_id  rating\n",
       "7813732    73515     16512       7\n",
       "7813733    73515     17187       9\n",
       "7813734    73515     22145      10\n",
       "7813735    73516       790       9\n",
       "7813736    73516      8074       9"
      ]
     },
     "execution_count": 21,
     "metadata": {
      "tags": []
     },
     "output_type": "execute_result"
    }
   ],
   "source": [
    "ratings_df.tail()"
   ]
  },
  {
   "cell_type": "markdown",
   "metadata": {
    "id": "_o9vO7mIQ6K5"
   },
   "source": [
    "Remove irrelevant columns"
   ]
  },
  {
   "cell_type": "code",
   "execution_count": 22,
   "metadata": {
    "colab": {
     "base_uri": "https://localhost:8080/",
     "height": 204
    },
    "executionInfo": {
     "elapsed": 2719,
     "status": "ok",
     "timestamp": 1604516854508,
     "user": {
      "displayName": "Edison Alexander Mosquera Perdomo",
      "photoUrl": "https://lh3.googleusercontent.com/a-/AOh14Gjoug7a6vh3drfidVRKo1clOLAj3g5wk5n4IATcPw=s64",
      "userId": "09487360127696676675"
     },
     "user_tz": 300
    },
    "id": "u8RKJqJ9Q8RU",
    "outputId": "2343e24b-38ca-4bd1-e17d-b80734214802"
   },
   "outputs": [
    {
     "data": {
      "text/html": [
       "<div>\n",
       "<style scoped>\n",
       "    .dataframe tbody tr th:only-of-type {\n",
       "        vertical-align: middle;\n",
       "    }\n",
       "\n",
       "    .dataframe tbody tr th {\n",
       "        vertical-align: top;\n",
       "    }\n",
       "\n",
       "    .dataframe thead th {\n",
       "        text-align: right;\n",
       "    }\n",
       "</style>\n",
       "<table border=\"1\" class=\"dataframe\">\n",
       "  <thead>\n",
       "    <tr style=\"text-align: right;\">\n",
       "      <th></th>\n",
       "      <th>anime_id</th>\n",
       "      <th>name</th>\n",
       "      <th>rating</th>\n",
       "    </tr>\n",
       "  </thead>\n",
       "  <tbody>\n",
       "    <tr>\n",
       "      <th>0</th>\n",
       "      <td>32281</td>\n",
       "      <td>Kimi no Na wa.</td>\n",
       "      <td>9.37</td>\n",
       "    </tr>\n",
       "    <tr>\n",
       "      <th>1</th>\n",
       "      <td>5114</td>\n",
       "      <td>Fullmetal Alchemist: Brotherhood</td>\n",
       "      <td>9.26</td>\n",
       "    </tr>\n",
       "    <tr>\n",
       "      <th>2</th>\n",
       "      <td>28977</td>\n",
       "      <td>Gintama°</td>\n",
       "      <td>9.25</td>\n",
       "    </tr>\n",
       "    <tr>\n",
       "      <th>3</th>\n",
       "      <td>9253</td>\n",
       "      <td>Steins;Gate</td>\n",
       "      <td>9.17</td>\n",
       "    </tr>\n",
       "    <tr>\n",
       "      <th>4</th>\n",
       "      <td>9969</td>\n",
       "      <td>Gintama&amp;#039;</td>\n",
       "      <td>9.16</td>\n",
       "    </tr>\n",
       "  </tbody>\n",
       "</table>\n",
       "</div>"
      ],
      "text/plain": [
       "   anime_id                              name  rating\n",
       "0     32281                    Kimi no Na wa.    9.37\n",
       "1      5114  Fullmetal Alchemist: Brotherhood    9.26\n",
       "2     28977                          Gintama°    9.25\n",
       "3      9253                       Steins;Gate    9.17\n",
       "4      9969                     Gintama&#039;    9.16"
      ]
     },
     "execution_count": 22,
     "metadata": {
      "tags": []
     },
     "output_type": "execute_result"
    }
   ],
   "source": [
    "anime_df = anime_df.drop('genre', 1)\n",
    "anime_df = anime_df.drop('type', 1)\n",
    "anime_df = anime_df.drop('episodes', 1)\n",
    "anime_df = anime_df.drop('members', 1)\n",
    "anime_df.head()"
   ]
  },
  {
   "cell_type": "code",
   "execution_count": 23,
   "metadata": {
    "colab": {
     "base_uri": "https://localhost:8080/",
     "height": 204
    },
    "executionInfo": {
     "elapsed": 2709,
     "status": "ok",
     "timestamp": 1604516854510,
     "user": {
      "displayName": "Edison Alexander Mosquera Perdomo",
      "photoUrl": "https://lh3.googleusercontent.com/a-/AOh14Gjoug7a6vh3drfidVRKo1clOLAj3g5wk5n4IATcPw=s64",
      "userId": "09487360127696676675"
     },
     "user_tz": 300
    },
    "id": "TV5Unap8Rr4j",
    "outputId": "99ef6d47-9521-42c8-dd77-77dfd649a551"
   },
   "outputs": [
    {
     "data": {
      "text/html": [
       "<div>\n",
       "<style scoped>\n",
       "    .dataframe tbody tr th:only-of-type {\n",
       "        vertical-align: middle;\n",
       "    }\n",
       "\n",
       "    .dataframe tbody tr th {\n",
       "        vertical-align: top;\n",
       "    }\n",
       "\n",
       "    .dataframe thead th {\n",
       "        text-align: right;\n",
       "    }\n",
       "</style>\n",
       "<table border=\"1\" class=\"dataframe\">\n",
       "  <thead>\n",
       "    <tr style=\"text-align: right;\">\n",
       "      <th></th>\n",
       "      <th>user_id</th>\n",
       "      <th>anime_id</th>\n",
       "      <th>rating</th>\n",
       "    </tr>\n",
       "  </thead>\n",
       "  <tbody>\n",
       "    <tr>\n",
       "      <th>0</th>\n",
       "      <td>1</td>\n",
       "      <td>20</td>\n",
       "      <td>-1</td>\n",
       "    </tr>\n",
       "    <tr>\n",
       "      <th>1</th>\n",
       "      <td>1</td>\n",
       "      <td>24</td>\n",
       "      <td>-1</td>\n",
       "    </tr>\n",
       "    <tr>\n",
       "      <th>2</th>\n",
       "      <td>1</td>\n",
       "      <td>79</td>\n",
       "      <td>-1</td>\n",
       "    </tr>\n",
       "    <tr>\n",
       "      <th>3</th>\n",
       "      <td>1</td>\n",
       "      <td>226</td>\n",
       "      <td>-1</td>\n",
       "    </tr>\n",
       "    <tr>\n",
       "      <th>4</th>\n",
       "      <td>1</td>\n",
       "      <td>241</td>\n",
       "      <td>-1</td>\n",
       "    </tr>\n",
       "  </tbody>\n",
       "</table>\n",
       "</div>"
      ],
      "text/plain": [
       "   user_id  anime_id  rating\n",
       "0        1        20      -1\n",
       "1        1        24      -1\n",
       "2        1        79      -1\n",
       "3        1       226      -1\n",
       "4        1       241      -1"
      ]
     },
     "execution_count": 23,
     "metadata": {
      "tags": []
     },
     "output_type": "execute_result"
    }
   ],
   "source": [
    "ratings_df.head()"
   ]
  },
  {
   "cell_type": "markdown",
   "metadata": {
    "id": "YsxwHmyFR_oQ"
   },
   "source": [
    "We create a new user with five items and their respective ratings. "
   ]
  },
  {
   "cell_type": "code",
   "execution_count": 24,
   "metadata": {
    "colab": {
     "base_uri": "https://localhost:8080/",
     "height": 204
    },
    "executionInfo": {
     "elapsed": 2699,
     "status": "ok",
     "timestamp": 1604516854511,
     "user": {
      "displayName": "Edison Alexander Mosquera Perdomo",
      "photoUrl": "https://lh3.googleusercontent.com/a-/AOh14Gjoug7a6vh3drfidVRKo1clOLAj3g5wk5n4IATcPw=s64",
      "userId": "09487360127696676675"
     },
     "user_tz": 300
    },
    "id": "wHJ1-axYSGCf",
    "outputId": "0992ab27-ad6f-41d6-f74d-3820d5127ac7"
   },
   "outputs": [
    {
     "data": {
      "text/html": [
       "<div>\n",
       "<style scoped>\n",
       "    .dataframe tbody tr th:only-of-type {\n",
       "        vertical-align: middle;\n",
       "    }\n",
       "\n",
       "    .dataframe tbody tr th {\n",
       "        vertical-align: top;\n",
       "    }\n",
       "\n",
       "    .dataframe thead th {\n",
       "        text-align: right;\n",
       "    }\n",
       "</style>\n",
       "<table border=\"1\" class=\"dataframe\">\n",
       "  <thead>\n",
       "    <tr style=\"text-align: right;\">\n",
       "      <th></th>\n",
       "      <th>name</th>\n",
       "      <th>rating</th>\n",
       "    </tr>\n",
       "  </thead>\n",
       "  <tbody>\n",
       "    <tr>\n",
       "      <th>0</th>\n",
       "      <td>Fullmetal Alchemist: Brotherhood</td>\n",
       "      <td>4.0</td>\n",
       "    </tr>\n",
       "    <tr>\n",
       "      <th>1</th>\n",
       "      <td>Cowboy Bebop</td>\n",
       "      <td>5.0</td>\n",
       "    </tr>\n",
       "    <tr>\n",
       "      <th>2</th>\n",
       "      <td>Death Note</td>\n",
       "      <td>4.5</td>\n",
       "    </tr>\n",
       "    <tr>\n",
       "      <th>3</th>\n",
       "      <td>Clannad: After Story</td>\n",
       "      <td>3.0</td>\n",
       "    </tr>\n",
       "    <tr>\n",
       "      <th>4</th>\n",
       "      <td>Koe no Katachi</td>\n",
       "      <td>2.0</td>\n",
       "    </tr>\n",
       "  </tbody>\n",
       "</table>\n",
       "</div>"
      ],
      "text/plain": [
       "                               name  rating\n",
       "0  Fullmetal Alchemist: Brotherhood     4.0\n",
       "1                      Cowboy Bebop     5.0\n",
       "2                        Death Note     4.5\n",
       "3              Clannad: After Story     3.0\n",
       "4                    Koe no Katachi     2.0"
      ]
     },
     "execution_count": 24,
     "metadata": {
      "tags": []
     },
     "output_type": "execute_result"
    }
   ],
   "source": [
    "userInput = [\n",
    "            {'name':'Fullmetal Alchemist: Brotherhood', 'rating':4},\n",
    "            {'name':'Cowboy Bebop', 'rating':5},\n",
    "            {'name':'Death Note', 'rating':4.5},\n",
    "            {'name':'Clannad: After Story', 'rating':3},\n",
    "            {'name':'Koe no Katachi', 'rating':2}             \n",
    "]\n",
    "inputItems = pd.DataFrame(userInput)\n",
    "inputItems"
   ]
  },
  {
   "cell_type": "markdown",
   "metadata": {
    "id": "uzzcxrUJTUMM"
   },
   "source": [
    "Find the anime_id for all the animes rated by the new user."
   ]
  },
  {
   "cell_type": "code",
   "execution_count": 25,
   "metadata": {
    "colab": {
     "base_uri": "https://localhost:8080/",
     "height": 204
    },
    "executionInfo": {
     "elapsed": 2688,
     "status": "ok",
     "timestamp": 1604516854512,
     "user": {
      "displayName": "Edison Alexander Mosquera Perdomo",
      "photoUrl": "https://lh3.googleusercontent.com/a-/AOh14Gjoug7a6vh3drfidVRKo1clOLAj3g5wk5n4IATcPw=s64",
      "userId": "09487360127696676675"
     },
     "user_tz": 300
    },
    "id": "5kr952pdTjyZ",
    "outputId": "6bdb0a76-bcf4-434f-bf88-83f56e025e5f"
   },
   "outputs": [
    {
     "data": {
      "text/html": [
       "<div>\n",
       "<style scoped>\n",
       "    .dataframe tbody tr th:only-of-type {\n",
       "        vertical-align: middle;\n",
       "    }\n",
       "\n",
       "    .dataframe tbody tr th {\n",
       "        vertical-align: top;\n",
       "    }\n",
       "\n",
       "    .dataframe thead th {\n",
       "        text-align: right;\n",
       "    }\n",
       "</style>\n",
       "<table border=\"1\" class=\"dataframe\">\n",
       "  <thead>\n",
       "    <tr style=\"text-align: right;\">\n",
       "      <th></th>\n",
       "      <th>anime_id</th>\n",
       "      <th>name</th>\n",
       "      <th>rating</th>\n",
       "    </tr>\n",
       "  </thead>\n",
       "  <tbody>\n",
       "    <tr>\n",
       "      <th>0</th>\n",
       "      <td>5114</td>\n",
       "      <td>Fullmetal Alchemist: Brotherhood</td>\n",
       "      <td>4.0</td>\n",
       "    </tr>\n",
       "    <tr>\n",
       "      <th>1</th>\n",
       "      <td>4181</td>\n",
       "      <td>Clannad: After Story</td>\n",
       "      <td>3.0</td>\n",
       "    </tr>\n",
       "    <tr>\n",
       "      <th>2</th>\n",
       "      <td>28851</td>\n",
       "      <td>Koe no Katachi</td>\n",
       "      <td>2.0</td>\n",
       "    </tr>\n",
       "    <tr>\n",
       "      <th>3</th>\n",
       "      <td>1</td>\n",
       "      <td>Cowboy Bebop</td>\n",
       "      <td>5.0</td>\n",
       "    </tr>\n",
       "    <tr>\n",
       "      <th>4</th>\n",
       "      <td>1535</td>\n",
       "      <td>Death Note</td>\n",
       "      <td>4.5</td>\n",
       "    </tr>\n",
       "  </tbody>\n",
       "</table>\n",
       "</div>"
      ],
      "text/plain": [
       "   anime_id                              name  rating\n",
       "0      5114  Fullmetal Alchemist: Brotherhood     4.0\n",
       "1      4181              Clannad: After Story     3.0\n",
       "2     28851                    Koe no Katachi     2.0\n",
       "3         1                      Cowboy Bebop     5.0\n",
       "4      1535                        Death Note     4.5"
      ]
     },
     "execution_count": 25,
     "metadata": {
      "tags": []
     },
     "output_type": "execute_result"
    }
   ],
   "source": [
    "animetemp_df=anime_df\n",
    "animetemp_df = animetemp_df.drop('rating', 1)\n",
    "inputId = animetemp_df[animetemp_df['name'].isin(inputItems['name'].tolist())]\n",
    "inputItems= pd.merge(inputId, inputItems)\n",
    "inputItems"
   ]
  },
  {
   "cell_type": "markdown",
   "metadata": {
    "id": "Ff9sqN1mUALS"
   },
   "source": [
    "Group users who have rated the same items as the new user. We skip ratings of -1 (Users who have watchd the anime but didn't rate it)"
   ]
  },
  {
   "cell_type": "code",
   "execution_count": 26,
   "metadata": {
    "colab": {
     "base_uri": "https://localhost:8080/",
     "height": 289
    },
    "executionInfo": {
     "elapsed": 3053,
     "status": "ok",
     "timestamp": 1604516854887,
     "user": {
      "displayName": "Edison Alexander Mosquera Perdomo",
      "photoUrl": "https://lh3.googleusercontent.com/a-/AOh14Gjoug7a6vh3drfidVRKo1clOLAj3g5wk5n4IATcPw=s64",
      "userId": "09487360127696676675"
     },
     "user_tz": 300
    },
    "id": "g04Q5HWlUKb5",
    "outputId": "a2c40dd1-381d-4048-bf49-e340bacf5072"
   },
   "outputs": [
    {
     "name": "stderr",
     "output_type": "stream",
     "text": [
      "/usr/local/lib/python3.6/dist-packages/pandas/core/frame.py:4174: SettingWithCopyWarning: \n",
      "A value is trying to be set on a copy of a slice from a DataFrame\n",
      "\n",
      "See the caveats in the documentation: https://pandas.pydata.org/pandas-docs/stable/user_guide/indexing.html#returning-a-view-versus-a-copy\n",
      "  errors=errors,\n"
     ]
    },
    {
     "data": {
      "text/html": [
       "<div>\n",
       "<style scoped>\n",
       "    .dataframe tbody tr th:only-of-type {\n",
       "        vertical-align: middle;\n",
       "    }\n",
       "\n",
       "    .dataframe tbody tr th {\n",
       "        vertical-align: top;\n",
       "    }\n",
       "\n",
       "    .dataframe thead th {\n",
       "        text-align: right;\n",
       "    }\n",
       "</style>\n",
       "<table border=\"1\" class=\"dataframe\">\n",
       "  <thead>\n",
       "    <tr style=\"text-align: right;\">\n",
       "      <th></th>\n",
       "      <th>user_id</th>\n",
       "      <th>anime_id</th>\n",
       "      <th>rating</th>\n",
       "    </tr>\n",
       "  </thead>\n",
       "  <tbody>\n",
       "    <tr>\n",
       "      <th>173</th>\n",
       "      <td>3</td>\n",
       "      <td>1535</td>\n",
       "      <td>10</td>\n",
       "    </tr>\n",
       "    <tr>\n",
       "      <th>183</th>\n",
       "      <td>3</td>\n",
       "      <td>5114</td>\n",
       "      <td>10</td>\n",
       "    </tr>\n",
       "    <tr>\n",
       "      <th>396</th>\n",
       "      <td>5</td>\n",
       "      <td>1535</td>\n",
       "      <td>4</td>\n",
       "    </tr>\n",
       "    <tr>\n",
       "      <th>849</th>\n",
       "      <td>7</td>\n",
       "      <td>1535</td>\n",
       "      <td>9</td>\n",
       "    </tr>\n",
       "    <tr>\n",
       "      <th>876</th>\n",
       "      <td>7</td>\n",
       "      <td>4181</td>\n",
       "      <td>9</td>\n",
       "    </tr>\n",
       "  </tbody>\n",
       "</table>\n",
       "</div>"
      ],
      "text/plain": [
       "     user_id  anime_id  rating\n",
       "173        3      1535      10\n",
       "183        3      5114      10\n",
       "396        5      1535       4\n",
       "849        7      1535       9\n",
       "876        7      4181       9"
      ]
     },
     "execution_count": 26,
     "metadata": {
      "tags": []
     },
     "output_type": "execute_result"
    }
   ],
   "source": [
    "userSubset = ratings_df[ratings_df['anime_id'].isin(inputItems['anime_id'].tolist())]\n",
    "indexNames = userSubset[userSubset['rating'] == -1 ].index\n",
    "userSubset.drop(indexNames , inplace=True)\n",
    "userSubset.head()"
   ]
  },
  {
   "cell_type": "markdown",
   "metadata": {
    "id": "VFW0NRnKU0VK"
   },
   "source": [
    "Group users by userId and sort them giving priority to those with a higher number of movies"
   ]
  },
  {
   "cell_type": "code",
   "execution_count": 27,
   "metadata": {
    "colab": {
     "base_uri": "https://localhost:8080/"
    },
    "executionInfo": {
     "elapsed": 4474,
     "status": "ok",
     "timestamp": 1604516856318,
     "user": {
      "displayName": "Edison Alexander Mosquera Perdomo",
      "photoUrl": "https://lh3.googleusercontent.com/a-/AOh14Gjoug7a6vh3drfidVRKo1clOLAj3g5wk5n4IATcPw=s64",
      "userId": "09487360127696676675"
     },
     "user_tz": 300
    },
    "id": "DF_Y1P0wVAsc",
    "outputId": "725d5507-ca35-4620-be3f-094946e09a7f"
   },
   "outputs": [
    {
     "data": {
      "text/plain": [
       "[(18051,          user_id  anime_id  rating\n",
       "  1863694    18051         1       7\n",
       "  1863729    18051      1535       8\n",
       "  1863756    18051      4181      10\n",
       "  1863763    18051      5114       9\n",
       "  1864056    18051     28851      10),\n",
       " (20049,          user_id  anime_id  rating\n",
       "  2070899    20049         1       8\n",
       "  2070930    20049      1535       7\n",
       "  2070959    20049      4181       7\n",
       "  2070969    20049      5114       7\n",
       "  2071099    20049     28851       9),\n",
       " (27153,          user_id  anime_id  rating\n",
       "  2913426    27153         1       9\n",
       "  2913444    27153      1535       9\n",
       "  2913451    27153      4181       9\n",
       "  2913454    27153      5114       9\n",
       "  2913568    27153     28851       9)]"
      ]
     },
     "execution_count": 27,
     "metadata": {
      "tags": []
     },
     "output_type": "execute_result"
    }
   ],
   "source": [
    "userSubsetGroup = userSubset.groupby(['user_id'])\n",
    "userSubsetGroup = sorted(userSubsetGroup, key=lambda x: len(x[1]), reverse=True)\n",
    "userSubsetGroup[0:3]"
   ]
  },
  {
   "cell_type": "markdown",
   "metadata": {
    "id": "jJHJKG5fYT8D"
   },
   "source": [
    "Choose a subset of users to iterate and calculate the PCC between the new user and the group of users and store it in a dict with keys as userId, and values as the PCC"
   ]
  },
  {
   "cell_type": "code",
   "execution_count": 28,
   "metadata": {
    "colab": {
     "base_uri": "https://localhost:8080/"
    },
    "executionInfo": {
     "elapsed": 4458,
     "status": "ok",
     "timestamp": 1604516856319,
     "user": {
      "displayName": "Edison Alexander Mosquera Perdomo",
      "photoUrl": "https://lh3.googleusercontent.com/a-/AOh14Gjoug7a6vh3drfidVRKo1clOLAj3g5wk5n4IATcPw=s64",
      "userId": "09487360127696676675"
     },
     "user_tz": 300
    },
    "id": "JxcdTBH6Ya_h",
    "outputId": "d2227df8-7baa-4154-8d38-bc2334f78cde"
   },
   "outputs": [
    {
     "data": {
      "text/plain": [
       "dict_items([(18051, -0.9235481451828003), (20049, -0.48745026271476083), (27153, 0), (28550, 0.8907652012052085), (40915, -0.6064784348631236), (41677, -0.7960029457578504), (45583, -0.7892051872524735), (56426, 0.4218479169376418), (64354, -0.22742941307366998), (21, 0.7171371656006361), (46, 0.9683296637314885), (51, 0.50709255283711), (81, -0.5988617490341906), (173, -0.50709255283711), (191, -0.2548235957188128), (226, 0.5606119105813882), (235, -0.2548235957188128), (250, -0.29277002188455997), (261, -0.50709255283711), (294, -0.41403933560541256), (352, 0.2548235957188128), (392, -0.9561828874675149), (403, 0.9561828874675149), (446, -0.8451542547285166), (530, -0.2548235957188128), (563, -0.8664002254439634), (565, -0.8142198690509739), (578, 0.1690308509457033), (582, 0.050964719143762556), (610, -0.8919017444789035), (614, -0.4621247905424446), (618, 0.8783100656536799), (687, -0.8451542547285166), (694, -0.6831300510639733), (702, 0), (771, -0.9683296637314885), (795, -0.6831300510639733), (813, -0.5520524474738834), (814, -0.1690308509457033), (851, -0.2760262237369417), (861, 0.5606119105813882), (936, -0.8451542547285166), (938, -0.7324670207647144), (956, 0.47809144373375745), (958, 0), (997, -0.09759000729485333), (1042, 0), (1106, -0.2548235957188128), (1114, -0.8919017444789035), (1148, -0.8451542547285166), (1176, 0.8783100656536799), (1191, -0.36657588598315055), (1214, -0.6625413488689132), (1239, 0), (1284, -0.8451542547285166), (1338, -0.8451542547285166), (1344, 0.27144835701531844), (1396, 0.15289415743128767), (1418, -0.09759000729485333), (1423, -0.9561828874675149), (1442, -0.6831300510639733), (1450, -0.6831300510639733), (1487, -0.7644707871564383), (1528, -0.6831300510639733), (1530, -0.023669053416557544), (1616, 0.6831300510639733), (1619, -0.8315218406202999), (1657, 0.5606119105813882), (1664, -0.47809144373375745), (1667, -0.6625413488689132), (1705, 0.8783100656536799), (1718, -0.5737097324805089), (1719, -0.581675050747111), (1749, -0.27144835701531844), (1769, 0.06601782722034923), (1790, 0.8783100656536799), (1808, 0.42289003161103106), (1811, -0.5606119105813882), (1814, 0.8783100656536799), (1860, -0.7928249671720918), (1887, 0.6390644422470536), (1928, -0.41403933560541256), (2000, 0), (2031, 0.8783100656536799), (2139, -0.11002971203391539), (2181, -0.8664002254439634), (2185, -0.9561828874675149), (2204, 0.1690308509457033), (2273, 0.29277002188455997), (2300, 0), (2308, -0.1690308509457033), (2320, -0.8315218406202999), (2342, -0.8131571126147261), (2378, 0.5102946367862587), (2385, 0), (2489, 0.8280786712108251), (2496, -0.1690308509457033), (2526, 0.29277002188455997), (2527, 0.659231724180059), (2549, -0.2548235957188128)])"
      ]
     },
     "execution_count": 28,
     "metadata": {
      "tags": []
     },
     "output_type": "execute_result"
    }
   ],
   "source": [
    "userSubsetGroup=userSubsetGroup[0:100]\n",
    "pearsonCorrelationDict = {}\n",
    "for name, group in userSubsetGroup:\n",
    "  group=group.sort_values(by='anime_id')\n",
    "  inputItems = inputItems.sort_values(by='anime_id')\n",
    "  nRatings=len(group)\n",
    "  temp_df=inputItems[inputItems['anime_id'].isin(group['anime_id'].tolist())]\n",
    "  tempRatingList=temp_df['rating'].tolist()\n",
    "  tempGroupList = group['rating'].tolist()\n",
    "  Sxx=sum([i**2 for i in tempRatingList])-pow(sum(tempRatingList),2)/float(nRatings)\n",
    "  Syy=sum([i**2 for i in tempGroupList])-pow(sum(tempGroupList),2)/float(nRatings)\n",
    "  Sxy=sum(i*j for i,j in zip(tempRatingList, tempGroupList))-sum(tempRatingList)*sum(tempGroupList)/float(nRatings)\n",
    "\n",
    "  if Sxx != 0 and Syy != 0:\n",
    "    pearsonCorrelationDict[name] = Sxy/sqrt(Sxx*Syy)\n",
    "  else:\n",
    "    pearsonCorrelationDict[name] = 0\n",
    "\n",
    "pearsonCorrelationDict.items()"
   ]
  },
  {
   "cell_type": "markdown",
   "metadata": {
    "id": "a3sJDDfiefl_"
   },
   "source": [
    "Save the dict to a df and name its columns"
   ]
  },
  {
   "cell_type": "code",
   "execution_count": 29,
   "metadata": {
    "colab": {
     "base_uri": "https://localhost:8080/",
     "height": 204
    },
    "executionInfo": {
     "elapsed": 4445,
     "status": "ok",
     "timestamp": 1604516856321,
     "user": {
      "displayName": "Edison Alexander Mosquera Perdomo",
      "photoUrl": "https://lh3.googleusercontent.com/a-/AOh14Gjoug7a6vh3drfidVRKo1clOLAj3g5wk5n4IATcPw=s64",
      "userId": "09487360127696676675"
     },
     "user_tz": 300
    },
    "id": "avefYrtXfUl1",
    "outputId": "52d4eb5e-6358-4047-8847-8ea2427b67ff"
   },
   "outputs": [
    {
     "data": {
      "text/html": [
       "<div>\n",
       "<style scoped>\n",
       "    .dataframe tbody tr th:only-of-type {\n",
       "        vertical-align: middle;\n",
       "    }\n",
       "\n",
       "    .dataframe tbody tr th {\n",
       "        vertical-align: top;\n",
       "    }\n",
       "\n",
       "    .dataframe thead th {\n",
       "        text-align: right;\n",
       "    }\n",
       "</style>\n",
       "<table border=\"1\" class=\"dataframe\">\n",
       "  <thead>\n",
       "    <tr style=\"text-align: right;\">\n",
       "      <th></th>\n",
       "      <th>similarityIndex</th>\n",
       "      <th>user_id</th>\n",
       "    </tr>\n",
       "  </thead>\n",
       "  <tbody>\n",
       "    <tr>\n",
       "      <th>0</th>\n",
       "      <td>-0.923548</td>\n",
       "      <td>18051</td>\n",
       "    </tr>\n",
       "    <tr>\n",
       "      <th>1</th>\n",
       "      <td>-0.487450</td>\n",
       "      <td>20049</td>\n",
       "    </tr>\n",
       "    <tr>\n",
       "      <th>2</th>\n",
       "      <td>0.000000</td>\n",
       "      <td>27153</td>\n",
       "    </tr>\n",
       "    <tr>\n",
       "      <th>3</th>\n",
       "      <td>0.890765</td>\n",
       "      <td>28550</td>\n",
       "    </tr>\n",
       "    <tr>\n",
       "      <th>4</th>\n",
       "      <td>-0.606478</td>\n",
       "      <td>40915</td>\n",
       "    </tr>\n",
       "  </tbody>\n",
       "</table>\n",
       "</div>"
      ],
      "text/plain": [
       "   similarityIndex  user_id\n",
       "0        -0.923548    18051\n",
       "1        -0.487450    20049\n",
       "2         0.000000    27153\n",
       "3         0.890765    28550\n",
       "4        -0.606478    40915"
      ]
     },
     "execution_count": 29,
     "metadata": {
      "tags": []
     },
     "output_type": "execute_result"
    }
   ],
   "source": [
    "pearsonDF = pd.DataFrame.from_dict(pearsonCorrelationDict, orient='index')\n",
    "pearsonDF.columns = ['similarityIndex']\n",
    "pearsonDF['user_id'] = pearsonDF.index\n",
    "pearsonDF.index = range(len(pearsonDF))\n",
    "pearsonDF.head()"
   ]
  },
  {
   "cell_type": "markdown",
   "metadata": {
    "id": "kU-w_4MlgxeK"
   },
   "source": [
    "Get the first 50 users closest to the new user"
   ]
  },
  {
   "cell_type": "code",
   "execution_count": 30,
   "metadata": {
    "colab": {
     "base_uri": "https://localhost:8080/",
     "height": 204
    },
    "executionInfo": {
     "elapsed": 4432,
     "status": "ok",
     "timestamp": 1604516856322,
     "user": {
      "displayName": "Edison Alexander Mosquera Perdomo",
      "photoUrl": "https://lh3.googleusercontent.com/a-/AOh14Gjoug7a6vh3drfidVRKo1clOLAj3g5wk5n4IATcPw=s64",
      "userId": "09487360127696676675"
     },
     "user_tz": 300
    },
    "id": "nNgdsW8zgz-I",
    "outputId": "2a765313-e8b3-48cf-bb65-cd5fa784987f"
   },
   "outputs": [
    {
     "data": {
      "text/html": [
       "<div>\n",
       "<style scoped>\n",
       "    .dataframe tbody tr th:only-of-type {\n",
       "        vertical-align: middle;\n",
       "    }\n",
       "\n",
       "    .dataframe tbody tr th {\n",
       "        vertical-align: top;\n",
       "    }\n",
       "\n",
       "    .dataframe thead th {\n",
       "        text-align: right;\n",
       "    }\n",
       "</style>\n",
       "<table border=\"1\" class=\"dataframe\">\n",
       "  <thead>\n",
       "    <tr style=\"text-align: right;\">\n",
       "      <th></th>\n",
       "      <th>similarityIndex</th>\n",
       "      <th>user_id</th>\n",
       "    </tr>\n",
       "  </thead>\n",
       "  <tbody>\n",
       "    <tr>\n",
       "      <th>10</th>\n",
       "      <td>0.968330</td>\n",
       "      <td>46</td>\n",
       "    </tr>\n",
       "    <tr>\n",
       "      <th>22</th>\n",
       "      <td>0.956183</td>\n",
       "      <td>403</td>\n",
       "    </tr>\n",
       "    <tr>\n",
       "      <th>3</th>\n",
       "      <td>0.890765</td>\n",
       "      <td>28550</td>\n",
       "    </tr>\n",
       "    <tr>\n",
       "      <th>50</th>\n",
       "      <td>0.878310</td>\n",
       "      <td>1176</td>\n",
       "    </tr>\n",
       "    <tr>\n",
       "      <th>70</th>\n",
       "      <td>0.878310</td>\n",
       "      <td>1705</td>\n",
       "    </tr>\n",
       "  </tbody>\n",
       "</table>\n",
       "</div>"
      ],
      "text/plain": [
       "    similarityIndex  user_id\n",
       "10         0.968330       46\n",
       "22         0.956183      403\n",
       "3          0.890765    28550\n",
       "50         0.878310     1176\n",
       "70         0.878310     1705"
      ]
     },
     "execution_count": 30,
     "metadata": {
      "tags": []
     },
     "output_type": "execute_result"
    }
   ],
   "source": [
    "topUsers=pearsonDF.sort_values(by='similarityIndex', ascending=False)[0:50]\n",
    "topUsers.head()"
   ]
  },
  {
   "cell_type": "markdown",
   "metadata": {
    "id": "MAFlzojghHiQ"
   },
   "source": [
    "##Recommend items to the new user\n",
    "\n",
    "Find the avg weight of the anime ratings using the PCC but first look for the animes in our pearsonDF, starting with the Score DataFrame and save their corr to a new column called similarityIndex"
   ]
  },
  {
   "cell_type": "code",
   "execution_count": 31,
   "metadata": {
    "colab": {
     "base_uri": "https://localhost:8080/",
     "height": 204
    },
    "executionInfo": {
     "elapsed": 5414,
     "status": "ok",
     "timestamp": 1604516857320,
     "user": {
      "displayName": "Edison Alexander Mosquera Perdomo",
      "photoUrl": "https://lh3.googleusercontent.com/a-/AOh14Gjoug7a6vh3drfidVRKo1clOLAj3g5wk5n4IATcPw=s64",
      "userId": "09487360127696676675"
     },
     "user_tz": 300
    },
    "id": "5m6VjfyZh1Pn",
    "outputId": "7e6d5056-84bd-4dae-fb21-57ddf3ef5a34"
   },
   "outputs": [
    {
     "data": {
      "text/html": [
       "<div>\n",
       "<style scoped>\n",
       "    .dataframe tbody tr th:only-of-type {\n",
       "        vertical-align: middle;\n",
       "    }\n",
       "\n",
       "    .dataframe tbody tr th {\n",
       "        vertical-align: top;\n",
       "    }\n",
       "\n",
       "    .dataframe thead th {\n",
       "        text-align: right;\n",
       "    }\n",
       "</style>\n",
       "<table border=\"1\" class=\"dataframe\">\n",
       "  <thead>\n",
       "    <tr style=\"text-align: right;\">\n",
       "      <th></th>\n",
       "      <th>similarityIndex</th>\n",
       "      <th>user_id</th>\n",
       "      <th>anime_id</th>\n",
       "      <th>rating</th>\n",
       "    </tr>\n",
       "  </thead>\n",
       "  <tbody>\n",
       "    <tr>\n",
       "      <th>0</th>\n",
       "      <td>0.96833</td>\n",
       "      <td>46</td>\n",
       "      <td>1</td>\n",
       "      <td>10</td>\n",
       "    </tr>\n",
       "    <tr>\n",
       "      <th>1</th>\n",
       "      <td>0.96833</td>\n",
       "      <td>46</td>\n",
       "      <td>20</td>\n",
       "      <td>7</td>\n",
       "    </tr>\n",
       "    <tr>\n",
       "      <th>2</th>\n",
       "      <td>0.96833</td>\n",
       "      <td>46</td>\n",
       "      <td>45</td>\n",
       "      <td>8</td>\n",
       "    </tr>\n",
       "    <tr>\n",
       "      <th>3</th>\n",
       "      <td>0.96833</td>\n",
       "      <td>46</td>\n",
       "      <td>149</td>\n",
       "      <td>7</td>\n",
       "    </tr>\n",
       "    <tr>\n",
       "      <th>4</th>\n",
       "      <td>0.96833</td>\n",
       "      <td>46</td>\n",
       "      <td>150</td>\n",
       "      <td>8</td>\n",
       "    </tr>\n",
       "  </tbody>\n",
       "</table>\n",
       "</div>"
      ],
      "text/plain": [
       "   similarityIndex  user_id  anime_id  rating\n",
       "0          0.96833       46         1      10\n",
       "1          0.96833       46        20       7\n",
       "2          0.96833       46        45       8\n",
       "3          0.96833       46       149       7\n",
       "4          0.96833       46       150       8"
      ]
     },
     "execution_count": 31,
     "metadata": {
      "tags": []
     },
     "output_type": "execute_result"
    }
   ],
   "source": [
    "topUsersRating=topUsers.merge(ratings_df, left_on='user_id', right_on='user_id', how='inner')\n",
    "topUsersRating.head()"
   ]
  },
  {
   "cell_type": "markdown",
   "metadata": {
    "id": "Mi6bcCJtisPZ"
   },
   "source": [
    "Multiply both columns of anime's rating by its weight (similarity index)"
   ]
  },
  {
   "cell_type": "code",
   "execution_count": 32,
   "metadata": {
    "colab": {
     "base_uri": "https://localhost:8080/",
     "height": 204
    },
    "executionInfo": {
     "elapsed": 5402,
     "status": "ok",
     "timestamp": 1604516857321,
     "user": {
      "displayName": "Edison Alexander Mosquera Perdomo",
      "photoUrl": "https://lh3.googleusercontent.com/a-/AOh14Gjoug7a6vh3drfidVRKo1clOLAj3g5wk5n4IATcPw=s64",
      "userId": "09487360127696676675"
     },
     "user_tz": 300
    },
    "id": "iSZQ0ycejEsl",
    "outputId": "dc62cf04-b4ed-490f-94ed-cb6754a3d05d"
   },
   "outputs": [
    {
     "data": {
      "text/html": [
       "<div>\n",
       "<style scoped>\n",
       "    .dataframe tbody tr th:only-of-type {\n",
       "        vertical-align: middle;\n",
       "    }\n",
       "\n",
       "    .dataframe tbody tr th {\n",
       "        vertical-align: top;\n",
       "    }\n",
       "\n",
       "    .dataframe thead th {\n",
       "        text-align: right;\n",
       "    }\n",
       "</style>\n",
       "<table border=\"1\" class=\"dataframe\">\n",
       "  <thead>\n",
       "    <tr style=\"text-align: right;\">\n",
       "      <th></th>\n",
       "      <th>similarityIndex</th>\n",
       "      <th>user_id</th>\n",
       "      <th>anime_id</th>\n",
       "      <th>rating</th>\n",
       "      <th>weightedRating</th>\n",
       "    </tr>\n",
       "  </thead>\n",
       "  <tbody>\n",
       "    <tr>\n",
       "      <th>0</th>\n",
       "      <td>0.96833</td>\n",
       "      <td>46</td>\n",
       "      <td>1</td>\n",
       "      <td>10</td>\n",
       "      <td>9.683297</td>\n",
       "    </tr>\n",
       "    <tr>\n",
       "      <th>1</th>\n",
       "      <td>0.96833</td>\n",
       "      <td>46</td>\n",
       "      <td>20</td>\n",
       "      <td>7</td>\n",
       "      <td>6.778308</td>\n",
       "    </tr>\n",
       "    <tr>\n",
       "      <th>2</th>\n",
       "      <td>0.96833</td>\n",
       "      <td>46</td>\n",
       "      <td>45</td>\n",
       "      <td>8</td>\n",
       "      <td>7.746637</td>\n",
       "    </tr>\n",
       "    <tr>\n",
       "      <th>3</th>\n",
       "      <td>0.96833</td>\n",
       "      <td>46</td>\n",
       "      <td>149</td>\n",
       "      <td>7</td>\n",
       "      <td>6.778308</td>\n",
       "    </tr>\n",
       "    <tr>\n",
       "      <th>4</th>\n",
       "      <td>0.96833</td>\n",
       "      <td>46</td>\n",
       "      <td>150</td>\n",
       "      <td>8</td>\n",
       "      <td>7.746637</td>\n",
       "    </tr>\n",
       "  </tbody>\n",
       "</table>\n",
       "</div>"
      ],
      "text/plain": [
       "   similarityIndex  user_id  anime_id  rating  weightedRating\n",
       "0          0.96833       46         1      10        9.683297\n",
       "1          0.96833       46        20       7        6.778308\n",
       "2          0.96833       46        45       8        7.746637\n",
       "3          0.96833       46       149       7        6.778308\n",
       "4          0.96833       46       150       8        7.746637"
      ]
     },
     "execution_count": 32,
     "metadata": {
      "tags": []
     },
     "output_type": "execute_result"
    }
   ],
   "source": [
    "topUsersRating['weightedRating']=topUsersRating['similarityIndex']*topUsersRating['rating']\n",
    "topUsersRating.head()"
   ]
  },
  {
   "cell_type": "markdown",
   "metadata": {
    "id": "BD2sAUCGkGD_"
   },
   "source": [
    "Group users by anime_id column and sum the results of the topUsers"
   ]
  },
  {
   "cell_type": "code",
   "execution_count": 33,
   "metadata": {
    "colab": {
     "base_uri": "https://localhost:8080/",
     "height": 235
    },
    "executionInfo": {
     "elapsed": 5387,
     "status": "ok",
     "timestamp": 1604516857322,
     "user": {
      "displayName": "Edison Alexander Mosquera Perdomo",
      "photoUrl": "https://lh3.googleusercontent.com/a-/AOh14Gjoug7a6vh3drfidVRKo1clOLAj3g5wk5n4IATcPw=s64",
      "userId": "09487360127696676675"
     },
     "user_tz": 300
    },
    "id": "Iypmxv_gkeYJ",
    "outputId": "de3ccfae-9072-4ff9-dc91-6eaa44791e54"
   },
   "outputs": [
    {
     "data": {
      "text/html": [
       "<div>\n",
       "<style scoped>\n",
       "    .dataframe tbody tr th:only-of-type {\n",
       "        vertical-align: middle;\n",
       "    }\n",
       "\n",
       "    .dataframe tbody tr th {\n",
       "        vertical-align: top;\n",
       "    }\n",
       "\n",
       "    .dataframe thead th {\n",
       "        text-align: right;\n",
       "    }\n",
       "</style>\n",
       "<table border=\"1\" class=\"dataframe\">\n",
       "  <thead>\n",
       "    <tr style=\"text-align: right;\">\n",
       "      <th></th>\n",
       "      <th>sum_similarityIndex</th>\n",
       "      <th>sum_weightedRating</th>\n",
       "    </tr>\n",
       "    <tr>\n",
       "      <th>anime_id</th>\n",
       "      <th></th>\n",
       "      <th></th>\n",
       "    </tr>\n",
       "  </thead>\n",
       "  <tbody>\n",
       "    <tr>\n",
       "      <th>1</th>\n",
       "      <td>15.015417</td>\n",
       "      <td>135.855019</td>\n",
       "    </tr>\n",
       "    <tr>\n",
       "      <th>5</th>\n",
       "      <td>7.620794</td>\n",
       "      <td>66.646254</td>\n",
       "    </tr>\n",
       "    <tr>\n",
       "      <th>6</th>\n",
       "      <td>7.069864</td>\n",
       "      <td>58.319460</td>\n",
       "    </tr>\n",
       "    <tr>\n",
       "      <th>7</th>\n",
       "      <td>0.333572</td>\n",
       "      <td>1.742119</td>\n",
       "    </tr>\n",
       "    <tr>\n",
       "      <th>15</th>\n",
       "      <td>0.989294</td>\n",
       "      <td>8.474963</td>\n",
       "    </tr>\n",
       "  </tbody>\n",
       "</table>\n",
       "</div>"
      ],
      "text/plain": [
       "          sum_similarityIndex  sum_weightedRating\n",
       "anime_id                                         \n",
       "1                   15.015417          135.855019\n",
       "5                    7.620794           66.646254\n",
       "6                    7.069864           58.319460\n",
       "7                    0.333572            1.742119\n",
       "15                   0.989294            8.474963"
      ]
     },
     "execution_count": 33,
     "metadata": {
      "tags": []
     },
     "output_type": "execute_result"
    }
   ],
   "source": [
    "tempTopUsersRating = topUsersRating.groupby('anime_id').sum()[['similarityIndex','weightedRating']]\n",
    "tempTopUsersRating.columns = ['sum_similarityIndex','sum_weightedRating']\n",
    "tempTopUsersRating.head()"
   ]
  },
  {
   "cell_type": "markdown",
   "metadata": {
    "id": "VfKlpcQdlkF1"
   },
   "source": [
    "Create a new df with the weighted avg for each movie"
   ]
  },
  {
   "cell_type": "code",
   "execution_count": 34,
   "metadata": {
    "colab": {
     "base_uri": "https://localhost:8080/",
     "height": 235
    },
    "executionInfo": {
     "elapsed": 5377,
     "status": "ok",
     "timestamp": 1604516857324,
     "user": {
      "displayName": "Edison Alexander Mosquera Perdomo",
      "photoUrl": "https://lh3.googleusercontent.com/a-/AOh14Gjoug7a6vh3drfidVRKo1clOLAj3g5wk5n4IATcPw=s64",
      "userId": "09487360127696676675"
     },
     "user_tz": 300
    },
    "id": "fBxZnHsvmgyo",
    "outputId": "961fe89c-bec4-4c16-8653-268844d56569"
   },
   "outputs": [
    {
     "data": {
      "text/html": [
       "<div>\n",
       "<style scoped>\n",
       "    .dataframe tbody tr th:only-of-type {\n",
       "        vertical-align: middle;\n",
       "    }\n",
       "\n",
       "    .dataframe tbody tr th {\n",
       "        vertical-align: top;\n",
       "    }\n",
       "\n",
       "    .dataframe thead th {\n",
       "        text-align: right;\n",
       "    }\n",
       "</style>\n",
       "<table border=\"1\" class=\"dataframe\">\n",
       "  <thead>\n",
       "    <tr style=\"text-align: right;\">\n",
       "      <th></th>\n",
       "      <th>weighted average recommendation score</th>\n",
       "      <th>anime_id</th>\n",
       "    </tr>\n",
       "    <tr>\n",
       "      <th>anime_id</th>\n",
       "      <th></th>\n",
       "      <th></th>\n",
       "    </tr>\n",
       "  </thead>\n",
       "  <tbody>\n",
       "    <tr>\n",
       "      <th>1</th>\n",
       "      <td>9.047702</td>\n",
       "      <td>1</td>\n",
       "    </tr>\n",
       "    <tr>\n",
       "      <th>5</th>\n",
       "      <td>8.745316</td>\n",
       "      <td>5</td>\n",
       "    </tr>\n",
       "    <tr>\n",
       "      <th>6</th>\n",
       "      <td>8.249022</td>\n",
       "      <td>6</td>\n",
       "    </tr>\n",
       "    <tr>\n",
       "      <th>7</th>\n",
       "      <td>5.222617</td>\n",
       "      <td>7</td>\n",
       "    </tr>\n",
       "    <tr>\n",
       "      <th>15</th>\n",
       "      <td>8.566679</td>\n",
       "      <td>15</td>\n",
       "    </tr>\n",
       "  </tbody>\n",
       "</table>\n",
       "</div>"
      ],
      "text/plain": [
       "          weighted average recommendation score  anime_id\n",
       "anime_id                                                 \n",
       "1                                      9.047702         1\n",
       "5                                      8.745316         5\n",
       "6                                      8.249022         6\n",
       "7                                      5.222617         7\n",
       "15                                     8.566679        15"
      ]
     },
     "execution_count": 34,
     "metadata": {
      "tags": []
     },
     "output_type": "execute_result"
    }
   ],
   "source": [
    "recommendation_df = pd.DataFrame()\n",
    "recommendation_df['weighted average recommendation score'] = \\\n",
    "tempTopUsersRating['sum_weightedRating']/tempTopUsersRating['sum_similarityIndex']\n",
    "recommendation_df['anime_id']=tempTopUsersRating.index\n",
    "recommendation_df.head()"
   ]
  },
  {
   "cell_type": "markdown",
   "metadata": {
    "id": "8smhWgl9nQY5"
   },
   "source": [
    "Sort the ten first movies recommended by the CF algorithm"
   ]
  },
  {
   "cell_type": "code",
   "execution_count": 35,
   "metadata": {
    "colab": {
     "base_uri": "https://localhost:8080/",
     "height": 390
    },
    "executionInfo": {
     "elapsed": 5361,
     "status": "ok",
     "timestamp": 1604516857325,
     "user": {
      "displayName": "Edison Alexander Mosquera Perdomo",
      "photoUrl": "https://lh3.googleusercontent.com/a-/AOh14Gjoug7a6vh3drfidVRKo1clOLAj3g5wk5n4IATcPw=s64",
      "userId": "09487360127696676675"
     },
     "user_tz": 300
    },
    "id": "YK46dIg7nVgU",
    "outputId": "70f06fbe-42c0-4568-aab3-9afacc1defc5",
    "scrolled": true
   },
   "outputs": [
    {
     "data": {
      "text/html": [
       "<div>\n",
       "<style scoped>\n",
       "    .dataframe tbody tr th:only-of-type {\n",
       "        vertical-align: middle;\n",
       "    }\n",
       "\n",
       "    .dataframe tbody tr th {\n",
       "        vertical-align: top;\n",
       "    }\n",
       "\n",
       "    .dataframe thead th {\n",
       "        text-align: right;\n",
       "    }\n",
       "</style>\n",
       "<table border=\"1\" class=\"dataframe\">\n",
       "  <thead>\n",
       "    <tr style=\"text-align: right;\">\n",
       "      <th></th>\n",
       "      <th>weighted average recommendation score</th>\n",
       "      <th>anime_id</th>\n",
       "    </tr>\n",
       "    <tr>\n",
       "      <th>anime_id</th>\n",
       "      <th></th>\n",
       "      <th></th>\n",
       "    </tr>\n",
       "  </thead>\n",
       "  <tbody>\n",
       "    <tr>\n",
       "      <th>4107</th>\n",
       "      <td>402.583175</td>\n",
       "      <td>4107</td>\n",
       "    </tr>\n",
       "    <tr>\n",
       "      <th>7559</th>\n",
       "      <td>272.381549</td>\n",
       "      <td>7559</td>\n",
       "    </tr>\n",
       "    <tr>\n",
       "      <th>7902</th>\n",
       "      <td>84.639776</td>\n",
       "      <td>7902</td>\n",
       "    </tr>\n",
       "    <tr>\n",
       "      <th>10842</th>\n",
       "      <td>83.639776</td>\n",
       "      <td>10842</td>\n",
       "    </tr>\n",
       "    <tr>\n",
       "      <th>2952</th>\n",
       "      <td>53.603635</td>\n",
       "      <td>2952</td>\n",
       "    </tr>\n",
       "    <tr>\n",
       "      <th>5675</th>\n",
       "      <td>49.960250</td>\n",
       "      <td>5675</td>\n",
       "    </tr>\n",
       "    <tr>\n",
       "      <th>13263</th>\n",
       "      <td>40.696147</td>\n",
       "      <td>13263</td>\n",
       "    </tr>\n",
       "    <tr>\n",
       "      <th>82</th>\n",
       "      <td>27.505875</td>\n",
       "      <td>82</td>\n",
       "    </tr>\n",
       "    <tr>\n",
       "      <th>29223</th>\n",
       "      <td>17.830510</td>\n",
       "      <td>29223</td>\n",
       "    </tr>\n",
       "    <tr>\n",
       "      <th>6768</th>\n",
       "      <td>17.431369</td>\n",
       "      <td>6768</td>\n",
       "    </tr>\n",
       "  </tbody>\n",
       "</table>\n",
       "</div>"
      ],
      "text/plain": [
       "          weighted average recommendation score  anime_id\n",
       "anime_id                                                 \n",
       "4107                                 402.583175      4107\n",
       "7559                                 272.381549      7559\n",
       "7902                                  84.639776      7902\n",
       "10842                                 83.639776     10842\n",
       "2952                                  53.603635      2952\n",
       "5675                                  49.960250      5675\n",
       "13263                                 40.696147     13263\n",
       "82                                    27.505875        82\n",
       "29223                                 17.830510     29223\n",
       "6768                                  17.431369      6768"
      ]
     },
     "execution_count": 35,
     "metadata": {
      "tags": []
     },
     "output_type": "execute_result"
    }
   ],
   "source": [
    "recommendation_df = recommendation_df.sort_values(by='weighted average recommendation score', ascending=False)\n",
    "recommendation_df.head(10)"
   ]
  },
  {
   "cell_type": "markdown",
   "metadata": {
    "id": "rlTlbIcUZLD_"
   },
   "source": [
    "<font color='blue'>There are some errors when the weighted average recommendation score turns out being values over the maximum posible score 10 and the same way for the minimum score of 0 so here we deal with it and arrange the index column since we already have a column for movieId.\n",
    "Scores over 10 set to 10 and scores under 0 set to 0</font>"
   ]
  },
  {
   "cell_type": "code",
   "execution_count": 36,
   "metadata": {
    "colab": {
     "base_uri": "https://localhost:8080/",
     "height": 359
    },
    "executionInfo": {
     "elapsed": 5349,
     "status": "ok",
     "timestamp": 1604516857326,
     "user": {
      "displayName": "Edison Alexander Mosquera Perdomo",
      "photoUrl": "https://lh3.googleusercontent.com/a-/AOh14Gjoug7a6vh3drfidVRKo1clOLAj3g5wk5n4IATcPw=s64",
      "userId": "09487360127696676675"
     },
     "user_tz": 300
    },
    "id": "KqnoY40ybTV7",
    "outputId": "15be9e9a-78ea-4c11-d0a1-c2bc7e8b235a"
   },
   "outputs": [
    {
     "data": {
      "text/html": [
       "<div>\n",
       "<style scoped>\n",
       "    .dataframe tbody tr th:only-of-type {\n",
       "        vertical-align: middle;\n",
       "    }\n",
       "\n",
       "    .dataframe tbody tr th {\n",
       "        vertical-align: top;\n",
       "    }\n",
       "\n",
       "    .dataframe thead th {\n",
       "        text-align: right;\n",
       "    }\n",
       "</style>\n",
       "<table border=\"1\" class=\"dataframe\">\n",
       "  <thead>\n",
       "    <tr style=\"text-align: right;\">\n",
       "      <th></th>\n",
       "      <th>weighted average recommendation score</th>\n",
       "      <th>anime_id</th>\n",
       "    </tr>\n",
       "  </thead>\n",
       "  <tbody>\n",
       "    <tr>\n",
       "      <th>0</th>\n",
       "      <td>10.0</td>\n",
       "      <td>4107</td>\n",
       "    </tr>\n",
       "    <tr>\n",
       "      <th>1</th>\n",
       "      <td>10.0</td>\n",
       "      <td>7559</td>\n",
       "    </tr>\n",
       "    <tr>\n",
       "      <th>2</th>\n",
       "      <td>10.0</td>\n",
       "      <td>7902</td>\n",
       "    </tr>\n",
       "    <tr>\n",
       "      <th>3</th>\n",
       "      <td>10.0</td>\n",
       "      <td>10842</td>\n",
       "    </tr>\n",
       "    <tr>\n",
       "      <th>4</th>\n",
       "      <td>10.0</td>\n",
       "      <td>2952</td>\n",
       "    </tr>\n",
       "    <tr>\n",
       "      <th>5</th>\n",
       "      <td>10.0</td>\n",
       "      <td>5675</td>\n",
       "    </tr>\n",
       "    <tr>\n",
       "      <th>6</th>\n",
       "      <td>10.0</td>\n",
       "      <td>13263</td>\n",
       "    </tr>\n",
       "    <tr>\n",
       "      <th>7</th>\n",
       "      <td>10.0</td>\n",
       "      <td>82</td>\n",
       "    </tr>\n",
       "    <tr>\n",
       "      <th>8</th>\n",
       "      <td>10.0</td>\n",
       "      <td>29223</td>\n",
       "    </tr>\n",
       "    <tr>\n",
       "      <th>9</th>\n",
       "      <td>10.0</td>\n",
       "      <td>6768</td>\n",
       "    </tr>\n",
       "  </tbody>\n",
       "</table>\n",
       "</div>"
      ],
      "text/plain": [
       "   weighted average recommendation score  anime_id\n",
       "0                                   10.0      4107\n",
       "1                                   10.0      7559\n",
       "2                                   10.0      7902\n",
       "3                                   10.0     10842\n",
       "4                                   10.0      2952\n",
       "5                                   10.0      5675\n",
       "6                                   10.0     13263\n",
       "7                                   10.0        82\n",
       "8                                   10.0     29223\n",
       "9                                   10.0      6768"
      ]
     },
     "execution_count": 36,
     "metadata": {
      "tags": []
     },
     "output_type": "execute_result"
    }
   ],
   "source": [
    "recommendation_df.index = range(len(recommendation_df))\n",
    "temp_wars = recommendation_df['weighted average recommendation score'].tolist()\n",
    "j=0\n",
    "for i in temp_wars:\n",
    "  if i < 0:\n",
    "        recommendation_df.loc[j,'weighted average recommendation score'] = 0\n",
    "  elif i > 10:\n",
    "        recommendation_df.loc[j,'weighted average recommendation score'] = 10\n",
    "\n",
    "  j+=1\n",
    "recommendation_df.head(10)"
   ]
  },
  {
   "cell_type": "markdown",
   "metadata": {
    "id": "RiTvhSj7nz-H"
   },
   "source": [
    "Look for the id of the movies with the DataFrame to know the title of the movie"
   ]
  },
  {
   "cell_type": "code",
   "execution_count": 37,
   "metadata": {
    "colab": {
     "base_uri": "https://localhost:8080/",
     "height": 359
    },
    "executionInfo": {
     "elapsed": 5335,
     "status": "ok",
     "timestamp": 1604516857327,
     "user": {
      "displayName": "Edison Alexander Mosquera Perdomo",
      "photoUrl": "https://lh3.googleusercontent.com/a-/AOh14Gjoug7a6vh3drfidVRKo1clOLAj3g5wk5n4IATcPw=s64",
      "userId": "09487360127696676675"
     },
     "user_tz": 300
    },
    "id": "kxDHwWpRn47z",
    "outputId": "ed4dd872-2056-4927-ab1d-a27f2053d560"
   },
   "outputs": [
    {
     "data": {
      "text/html": [
       "<div>\n",
       "<style scoped>\n",
       "    .dataframe tbody tr th:only-of-type {\n",
       "        vertical-align: middle;\n",
       "    }\n",
       "\n",
       "    .dataframe tbody tr th {\n",
       "        vertical-align: top;\n",
       "    }\n",
       "\n",
       "    .dataframe thead th {\n",
       "        text-align: right;\n",
       "    }\n",
       "</style>\n",
       "<table border=\"1\" class=\"dataframe\">\n",
       "  <thead>\n",
       "    <tr style=\"text-align: right;\">\n",
       "      <th></th>\n",
       "      <th>anime_id</th>\n",
       "      <th>name</th>\n",
       "      <th>rating</th>\n",
       "    </tr>\n",
       "  </thead>\n",
       "  <tbody>\n",
       "    <tr>\n",
       "      <th>292</th>\n",
       "      <td>4107</td>\n",
       "      <td>Tengen Toppa Gurren Lagann Movie: Gurren-hen</td>\n",
       "      <td>8.22</td>\n",
       "    </tr>\n",
       "    <tr>\n",
       "      <th>333</th>\n",
       "      <td>2952</td>\n",
       "      <td>Final Fantasy VII: Advent Children Complete</td>\n",
       "      <td>8.17</td>\n",
       "    </tr>\n",
       "    <tr>\n",
       "      <th>574</th>\n",
       "      <td>6768</td>\n",
       "      <td>Code Geass: Hangyaku no Lelouch R2 Special Edi...</td>\n",
       "      <td>7.96</td>\n",
       "    </tr>\n",
       "    <tr>\n",
       "      <th>767</th>\n",
       "      <td>82</td>\n",
       "      <td>Mobile Suit Gundam 0080: War in the Pocket</td>\n",
       "      <td>7.85</td>\n",
       "    </tr>\n",
       "    <tr>\n",
       "      <th>1030</th>\n",
       "      <td>7902</td>\n",
       "      <td>Fullmetal Alchemist: Brotherhood - 4-Koma Theater</td>\n",
       "      <td>7.71</td>\n",
       "    </tr>\n",
       "    <tr>\n",
       "      <th>1999</th>\n",
       "      <td>5675</td>\n",
       "      <td>Basquash!</td>\n",
       "      <td>7.38</td>\n",
       "    </tr>\n",
       "    <tr>\n",
       "      <th>2397</th>\n",
       "      <td>10842</td>\n",
       "      <td>Fullmetal Alchemist: The Sacred Star of Milos ...</td>\n",
       "      <td>7.27</td>\n",
       "    </tr>\n",
       "    <tr>\n",
       "      <th>3331</th>\n",
       "      <td>7559</td>\n",
       "      <td>Fate/stay night TV Reproduction</td>\n",
       "      <td>7.02</td>\n",
       "    </tr>\n",
       "    <tr>\n",
       "      <th>3359</th>\n",
       "      <td>29223</td>\n",
       "      <td>Aldnoah.Zero Extra Archives</td>\n",
       "      <td>7.01</td>\n",
       "    </tr>\n",
       "    <tr>\n",
       "      <th>4276</th>\n",
       "      <td>13263</td>\n",
       "      <td>Fate/Zero: Onegai! Einzbern Soudanshitsu</td>\n",
       "      <td>6.76</td>\n",
       "    </tr>\n",
       "  </tbody>\n",
       "</table>\n",
       "</div>"
      ],
      "text/plain": [
       "      anime_id                                               name  rating\n",
       "292       4107       Tengen Toppa Gurren Lagann Movie: Gurren-hen    8.22\n",
       "333       2952        Final Fantasy VII: Advent Children Complete    8.17\n",
       "574       6768  Code Geass: Hangyaku no Lelouch R2 Special Edi...    7.96\n",
       "767         82         Mobile Suit Gundam 0080: War in the Pocket    7.85\n",
       "1030      7902  Fullmetal Alchemist: Brotherhood - 4-Koma Theater    7.71\n",
       "1999      5675                                          Basquash!    7.38\n",
       "2397     10842  Fullmetal Alchemist: The Sacred Star of Milos ...    7.27\n",
       "3331      7559                    Fate/stay night TV Reproduction    7.02\n",
       "3359     29223                        Aldnoah.Zero Extra Archives    7.01\n",
       "4276     13263           Fate/Zero: Onegai! Einzbern Soudanshitsu    6.76"
      ]
     },
     "execution_count": 37,
     "metadata": {
      "tags": []
     },
     "output_type": "execute_result"
    }
   ],
   "source": [
    "anime_df.loc[anime_df['anime_id'].isin(recommendation_df.head(10)['anime_id'].tolist())]\n"
   ]
  }
 ],
 "metadata": {
  "colab": {
   "collapsed_sections": [],
   "name": "cf_dataset.ipynb",
   "provenance": []
  },
  "kernelspec": {
   "display_name": "Python 3",
   "language": "python",
   "name": "python3"
  },
  "language_info": {
   "codemirror_mode": {
    "name": "ipython",
    "version": 3
   },
   "file_extension": ".py",
   "mimetype": "text/x-python",
   "name": "python",
   "nbconvert_exporter": "python",
   "pygments_lexer": "ipython3",
   "version": "3.8.5"
  }
 },
 "nbformat": 4,
 "nbformat_minor": 1
}
